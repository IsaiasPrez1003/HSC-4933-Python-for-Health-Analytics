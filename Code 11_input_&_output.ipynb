{
 "cells": [
  {
   "cell_type": "code",
   "execution_count": 1,
   "metadata": {},
   "outputs": [],
   "source": [
    "# Assignment, Work with a file containinig hospital patient data. \n",
    "# Read data from file, calculate basic statistics for the patients' infromation, and generate an output file."
   ]
  },
  {
   "cell_type": "code",
   "execution_count": 2,
   "metadata": {},
   "outputs": [
    {
     "name": "stdout",
     "output_type": "stream",
     "text": [
      "Requirement already satisfied: pandas in c:\\users\\isaia\\appdata\\local\\programs\\python\\python312\\lib\\site-packages (2.2.3)\n",
      "Requirement already satisfied: numpy>=1.26.0 in c:\\users\\isaia\\appdata\\local\\programs\\python\\python312\\lib\\site-packages (from pandas) (2.1.2)\n",
      "Requirement already satisfied: python-dateutil>=2.8.2 in c:\\users\\isaia\\appdata\\local\\programs\\python\\python312\\lib\\site-packages (from pandas) (2.9.0.post0)\n",
      "Requirement already satisfied: pytz>=2020.1 in c:\\users\\isaia\\appdata\\local\\programs\\python\\python312\\lib\\site-packages (from pandas) (2024.2)\n",
      "Requirement already satisfied: tzdata>=2022.7 in c:\\users\\isaia\\appdata\\local\\programs\\python\\python312\\lib\\site-packages (from pandas) (2024.2)\n",
      "Requirement already satisfied: six>=1.5 in c:\\users\\isaia\\appdata\\local\\programs\\python\\python312\\lib\\site-packages (from python-dateutil>=2.8.2->pandas) (1.16.0)\n"
     ]
    }
   ],
   "source": [
    "# packages \n",
    "!pip3 install pandas\n",
    "\n",
    "import pandas as pd\n",
    "import numpy as np\n",
    "import pathlib"
   ]
  },
  {
   "cell_type": "code",
   "execution_count": 33,
   "metadata": {},
   "outputs": [
    {
     "name": "stdout",
     "output_type": "stream",
     "text": [
      "\n",
      "            Name   Age   Gender  BloodPressure   Temperature\n",
      "0       John Doe    45     Male         120/80          36.8\n",
      "1     Jane Smith    32   Female         130/85          37.2\n",
      "2  Alice Johnson    50   Female         140/90          36.5\n",
      "3  Michael Brown    55     Male         135/82          37.0\n",
      "4   Emily Wilson    40   Female         125/78          36.9\n"
     ]
    }
   ],
   "source": [
    "# reading in text file\n",
    "path = pathlib.Path(r\"C:\\Users\\isaia\\OneDrive\\Desktop\\Week 13\\Week13Assignment.txt\")\n",
    "# Converting to dataframe\n",
    "try:\n",
    "    df = pd.read_csv(path)\n",
    "   # print(df)\n",
    "except FileNotFoundError:\n",
    "    print(f'File {file_path} not found.')\n",
    "except IOError:\n",
    "    print(\"An error occurred while reading the file.\")\n",
    "\n",
    "# creating subvariables to use for basic statistics \n",
    "print()\n",
    "Patients_Name = df['Name']\n",
    "Patients_Age = df[' Age']\n",
    "Patients_Gender = df[' Gender']\n",
    "Patients_BP = df[' BloodPressure']\n",
    "Patients_Temp = df[' Temperature']\n",
    "\n",
    "\n",
    "print(df)\n"
   ]
  },
  {
   "cell_type": "code",
   "execution_count": 42,
   "metadata": {},
   "outputs": [
    {
     "name": "stdout",
     "output_type": "stream",
     "text": [
      "Average patient age: 44.4\n",
      "---------------------------------------\n",
      " Gender\n",
      "Female    3\n",
      "Male      2\n",
      "Name: count, dtype: int64\n",
      "---------------------------------------\n",
      "The highest blood pressure is:  140.90 (Note: decimal point reflects a /)\n",
      "The lowest blood pressure is:  120.80 (Note: decimal point reflects a /)\n",
      "---------------------------------------\n",
      "Average patient temperature: 36.88\n"
     ]
    }
   ],
   "source": [
    "### Basic statistics\n",
    "\n",
    "# Average age of patients \n",
    "Patients_mean_age = np.mean(Patients_Age)\n",
    "print('Average patient age:', Patients_mean_age)\n",
    "print('---------------------------------------')\n",
    "\n",
    "# Total number of male and female patients\n",
    "gender_count = pd.Series(Patients_Gender).value_counts()\n",
    "print(gender_count)\n",
    "print('---------------------------------------')\n",
    "\n",
    "# Highest and lowest blood pressure \n",
    "Patients_BP = Patients_BP.str.replace('/', '.')\n",
    "Patients_BP_float = Patients_BP.astype(float)\n",
    "\n",
    "Highest_BP = Patients_BP_float.max().max()\n",
    "print(\"The highest blood pressure is:\", f\"{Highest_BP: .2f}\",  \"(Note: decimal point reflects a /)\")\n",
    "\n",
    "Lowest_BP = Patients_BP_float.min().min()\n",
    "print(\"The lowest blood pressure is:\", f\"{Lowest_BP: .2f}\",  \"(Note: decimal point reflects a /)\")\n",
    "print('---------------------------------------')\n",
    "\n",
    "# Average body temperature \n",
    "\n",
    "Patients_mean_temp = np.mean(Patients_Temp)\n",
    "print('Average patient temperature:', Patients_mean_temp)\n",
    "\n",
    "\n",
    "\n",
    "\n",
    "\n",
    "\n",
    "\n",
    "\n"
   ]
  }
 ],
 "metadata": {
  "kernelspec": {
   "display_name": "Python 3",
   "language": "python",
   "name": "python3"
  },
  "language_info": {
   "codemirror_mode": {
    "name": "ipython",
    "version": 3
   },
   "file_extension": ".py",
   "mimetype": "text/x-python",
   "name": "python",
   "nbconvert_exporter": "python",
   "pygments_lexer": "ipython3",
   "version": "3.12.6"
  }
 },
 "nbformat": 4,
 "nbformat_minor": 2
}
