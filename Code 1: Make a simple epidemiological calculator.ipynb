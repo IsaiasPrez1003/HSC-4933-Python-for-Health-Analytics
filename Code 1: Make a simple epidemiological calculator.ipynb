{
 "cells": [
  {
   "cell_type": "code",
   "execution_count": 2,
   "metadata": {},
   "outputs": [],
   "source": [
    "# Epidemiological calculator \n"
   ]
  },
  {
   "cell_type": "code",
   "execution_count": 3,
   "metadata": {},
   "outputs": [],
   "source": [
    "# Q1. There were 80 cases of Hepatitis A in Hillsborough County during the year 2022. \n",
    "# The population was 1,780,000 million people. From January 1st, 2023 to May 1st, 2023 there were 19 new cases of Hepatitis A (120 days). \n",
    "# In that timeframe, 2 people died from the disease. For those who died, they died at ages 64 and 74. \n",
    "# The average life expectancy in Hillsborough County is 77 years old."
   ]
  },
  {
   "cell_type": "code",
   "execution_count": 77,
   "metadata": {},
   "outputs": [
    {
     "name": "stdout",
     "output_type": "stream",
     "text": [
      "The Prevalence rate is 4.49% .\n"
     ]
    }
   ],
   "source": [
    "# Prevalence rate\n",
    "Q1_Total_num_of_cases = int(input(\"Number of cases: \"))\n",
    "Q1_Population = int(input(\"Population: \"))\n",
    "Q1_Prevalence_raw = (Q1_Total_num_of_cases / Q1_Population)\n",
    "Q1_Prevalence_rate = \"{:.2f}%\".format(Q1_Prevalence_raw * 100000)\n",
    "\n",
    "print(\"The Prevalence rate is\", Q1_Prevalence_rate,)\n"
   ]
  },
  {
   "cell_type": "code",
   "execution_count": 79,
   "metadata": {},
   "outputs": [
    {
     "name": "stdout",
     "output_type": "stream",
     "text": [
      "The incidence count is 1.07 per 100,000 people\n"
     ]
    }
   ],
   "source": [
    "# Incidences count\n",
    "Q1_New_cases = int(input(\"Number of new cases: \"))\n",
    "Q1_Population = int(input(\"Population: \"))\n",
    "\n",
    "Q1_Incidences_raw = Q1_New_cases / Q1_Population\n",
    "Q1_Incidences_raw_1 = Q1_Incidences_raw * 100000\n",
    "\n",
    "print(\"The incidence count is\", round(Q1_Incidences_raw_1,2), \"per 100,000 people\")"
   ]
  },
  {
   "cell_type": "code",
   "execution_count": 53,
   "metadata": {},
   "outputs": [
    {
     "name": "stdout",
     "output_type": "stream",
     "text": [
      "The mortality rate is 0.11 per 100,000 people\n"
     ]
    }
   ],
   "source": [
    "# Mortality rate\n",
    "Q1_Number_of_deaths = int(input(\"Number of deaths: \"))\n",
    "Q1_Population = int(input(\"Population: \"))\n",
    "\n",
    "Q1_Mortality_rate1 = Q1_Number_of_deaths / Q1_Population \n",
    "Q1_Mortality_rate2 = Q1_Mortality_rate1 * 100000\n",
    "\n",
    "print(\"The mortality rate is\", round(Q1_Mortality_rate2, 2), \"per 100,000 people\" )"
   ]
  },
  {
   "cell_type": "code",
   "execution_count": 54,
   "metadata": {},
   "outputs": [
    {
     "name": "stdout",
     "output_type": "stream",
     "text": [
      "Approximately 16 years were lost\n"
     ]
    }
   ],
   "source": [
    "# Years of potential life lost (YPLL)\n",
    "\n",
    "Q1_Age_input1 = int(input(\"Age of individual who died: \"))\n",
    "Q1_Age_input2 = int(input(\"Age of individual who died: \"))\n",
    "Q1_x = 77\n",
    "\n",
    "Q1_Diff_1 = Q1_x - Q1_Age_input1\n",
    "Q1_Diff_2 = Q1_x - Q1_Age_input2  \n",
    "\n",
    "Q1_YPLL = Q1_Diff_1 + Q1_Diff_2\n",
    "print(\"Approximately\", Q1_YPLL, \"years were lost\")"
   ]
  },
  {
   "cell_type": "code",
   "execution_count": null,
   "metadata": {},
   "outputs": [],
   "source": [
    "# Q2. There were 1,211 cases of Salmonella in Miami-Dade during the year 2022. The population was 2,660,000 million people. \n",
    "# From January 1st, 2023 to May 1st (120 days), 2023 there were 248 new cases of Salmonella. In that timeframe,1 person died from the disease."
   ]
  },
  {
   "cell_type": "code",
   "execution_count": 33,
   "metadata": {},
   "outputs": [
    {
     "name": "stdout",
     "output_type": "stream",
     "text": [
      "The Prevalence rate is 45.53%\n"
     ]
    }
   ],
   "source": [
    "# Prevalence rate\n",
    "Q2_Total_num_of_cases = int(input(\"Number of cases: \"))\n",
    "Q2_Population = int(input(\"Population: \"))\n",
    "Q2_Prevalence_raw = (Q2_Total_num_of_cases /Q2_Population) * 100000\n",
    "Q2_Prevalence_rate = \"{:.2f}%\".format(Q2_Prevalence_raw)\n",
    "\n",
    "print(\"The Prevalence rate is\", Q2_Prevalence_rate)\n"
   ]
  },
  {
   "cell_type": "code",
   "execution_count": 80,
   "metadata": {},
   "outputs": [
    {
     "name": "stdout",
     "output_type": "stream",
     "text": [
      "The incidence rate is 9.32 per 100,000 people\n"
     ]
    }
   ],
   "source": [
    "# Incidences count\n",
    "Q2_New_cases = int(input(\"Number of new cases: \"))\n",
    "Q2_Population = int(input(\"Population: \"))\n",
    "\n",
    "Q2_Incidences_raw = Q2_New_cases / Q2_Population\n",
    "Q2_Incidences_raw_1 = Q2_Incidences_raw * 100000\n",
    "\n",
    "\n",
    "print(\"The incidence rate is\", round(Q2_Incidences_raw_1, 2), \"per 100,000 people\")"
   ]
  },
  {
   "cell_type": "code",
   "execution_count": 81,
   "metadata": {},
   "outputs": [
    {
     "name": "stdout",
     "output_type": "stream",
     "text": [
      "The mortality rate is 0.04 per 100,000 people\n"
     ]
    }
   ],
   "source": [
    "# Mortality rate\n",
    "Q2_Number_of_deaths = int(input(\"Number of deaths: \"))\n",
    "Q2_Population = int(input(\"Population: \"))\n",
    "\n",
    "Q2_Mortality = Q2_Number_of_deaths / Q2_Population\n",
    "Q2_Mortality_1 = Q2_Mortality *100000\n",
    "\n",
    "print(\"The mortality rate is\", round(Q2_Mortality_1, 2), \"per 100,000 people\")"
   ]
  },
  {
   "cell_type": "code",
   "execution_count": null,
   "metadata": {},
   "outputs": [],
   "source": [
    "#Q3. There were 500 individuals diagnosed with influenza during the start of the 2021 flu season (December). \n",
    "# At the end of the flu season in February, there were 2,500 new cases. \n",
    "# The total population was 100,000 people. During the 2021 flu season, 40 people died of the disease. "
   ]
  },
  {
   "cell_type": "code",
   "execution_count": 83,
   "metadata": {},
   "outputs": [
    {
     "name": "stdout",
     "output_type": "stream",
     "text": [
      "The Prevalence rate is 3.0%\n"
     ]
    }
   ],
   "source": [
    "#Prevalence rate\n",
    "Q3_Total_num_of_cases = int(input(\"Number of cases: \"))\n",
    "Q3_Population = int(input(\"Population: \"))\n",
    "Q3_Prevalence_raw = (Q3_Total_num_of_cases / Q3_Population) *100\n",
    "Q3_Prevalence_rate = \"{:.1f}%\".format(Q3_Prevalence_raw)\n",
    "\n",
    "print(\"The Prevalence rate is\", Q3_Prevalence_rate)"
   ]
  },
  {
   "cell_type": "code",
   "execution_count": 84,
   "metadata": {},
   "outputs": [
    {
     "name": "stdout",
     "output_type": "stream",
     "text": [
      "The incidences count is 2500 per 100,000 people\n"
     ]
    }
   ],
   "source": [
    "#Incidence count.\n",
    "Q3_New_cases = int(input(\"Number of new cases: \"))\n",
    "Q3_Population = int(input(\"Population: \"))\n",
    "\n",
    "Q3_Incidences_raw = Q3_New_cases / Q3_Population\n",
    "Q3_Incidences_raw_1 = int(Q3_Incidences_raw * 100000)\n",
    "\n",
    "print(\"The incidences count is\", Q3_Incidences_raw_1, \"per 100,000 people\")"
   ]
  },
  {
   "cell_type": "code",
   "execution_count": 85,
   "metadata": {},
   "outputs": [
    {
     "name": "stdout",
     "output_type": "stream",
     "text": [
      "The mortality rate is 40.0 per 100,000 people\n"
     ]
    }
   ],
   "source": [
    "# Mortality rate\n",
    "Q3_Number_of_deaths = int(input(\"Number of deaths: \"))\n",
    "Q3_Population = int(input(\"Population: \"))\n",
    "\n",
    "Q3_Mortality = Q3_Number_of_deaths / Q3_Population\n",
    "Q3_Mortality_1 = Q3_Mortality *100000\n",
    "\n",
    "print(\"The mortality rate is\", round(Q3_Mortality_1, 2), \"per 100,000 people\")"
   ]
  },
  {
   "cell_type": "code",
   "execution_count": null,
   "metadata": {},
   "outputs": [],
   "source": [
    "#Q4. There were 12,000 cases of Chlamydia as of August 1st, 2022 in Hillsborough County. The population was 1.78 million people.\n",
    "# Between August 1st, 2022 and November 1st, 2022, there were 3,000 new cases of Chlamydia. During this time, 5 people died from the disease. \n",
    "# Of those five people, their ages were 32, 45, 28, 37, and 52. The average life expectancy in Hillsborough County is 77 years old."
   ]
  },
  {
   "cell_type": "code",
   "execution_count": 87,
   "metadata": {},
   "outputs": [
    {
     "name": "stdout",
     "output_type": "stream",
     "text": [
      "The Prevalence rate is 842.70%\n"
     ]
    }
   ],
   "source": [
    "# Prevalence rate. \n",
    "Q4_Total_num_of_cases = int(input(\"Number of cases: \"))\n",
    "Q4_Population = int(input(\"Population: \"))\n",
    "Q4_Prevalence_raw = (Q4_Total_num_of_cases / Q4_Population) * 100000\n",
    "Q4_Prevalence_rate = \"{:.2f}%\".format(Q4_Prevalence_raw)\n",
    "\n",
    "print(\"The Prevalence rate is\", Q4_Prevalence_rate)"
   ]
  },
  {
   "cell_type": "code",
   "execution_count": 88,
   "metadata": {},
   "outputs": [
    {
     "name": "stdout",
     "output_type": "stream",
     "text": [
      "The incidence rate is 168.54 per 100,000 people\n"
     ]
    }
   ],
   "source": [
    "# Incidence count.\n",
    "Q4_New_cases = int(input(\"Number of new cases: \"))\n",
    "Q4_Population = int(input(\"Population: \"))\n",
    "\n",
    "Q4_Incidences_raw = Q4_New_cases / Q4_Population \n",
    "Q4_Incidences_raw_1 = Q4_Incidences_raw * 100000\n",
    "\n",
    "print(\"The incidence rate is\",  round(Q4_Incidences_raw_1, 2), \"per 100,000 people\")"
   ]
  },
  {
   "cell_type": "code",
   "execution_count": 89,
   "metadata": {},
   "outputs": [
    {
     "name": "stdout",
     "output_type": "stream",
     "text": [
      "The mortality rate is 0.28 per 100,000 people\n"
     ]
    }
   ],
   "source": [
    "# Mortality rate\n",
    "Q4_Number_of_deaths = int(input(\"Number of deaths: \"))\n",
    "Q4_Population = int(input(\"Population: \"))\n",
    "\n",
    "Q4_Mortality = Q4_Number_of_deaths / Q4_Population\n",
    "Q4_Mortality_1 = Q4_Mortality *100000\n",
    "\n",
    "print(\"The mortality rate is\", round(Q4_Mortality_1, 2), \"per 100,000 people\")"
   ]
  },
  {
   "cell_type": "code",
   "execution_count": 90,
   "metadata": {},
   "outputs": [
    {
     "name": "stdout",
     "output_type": "stream",
     "text": [
      "Approximately 191 years were lost\n"
     ]
    }
   ],
   "source": [
    "# Years of potential life lost\n",
    "Q4_Age_input1 = int(input(\"Age of first individual who died: \"))\n",
    "Q4_Age_input2 = int(input(\"Age of second individual who died: \"))\n",
    "Q4_Age_input3 = int(input(\"Age of third individual who died: \"))\n",
    "Q4_Age_input4 = int(input(\"Age of fourth individual who died: \"))\n",
    "Q4_Age_input5 = int(input(\"Age of fifth individual who died: \"))\n",
    "\n",
    "Q4_meanAge = 77\n",
    "\n",
    "Q4_Diff_1 = Q4_meanAge - Q4_Age_input1\n",
    "Q4_Diff_2 = Q4_meanAge - Q4_Age_input2 \n",
    "Q4_Diff_3 = Q4_meanAge - Q4_Age_input3\n",
    "Q4_Diff_4 = Q4_meanAge - Q4_Age_input4 \n",
    "Q4_Diff_5 = Q4_meanAge - Q4_Age_input5 \n",
    "\n",
    "\n",
    "Q4_YPLL = (Q4_Diff_1 + Q4_Diff_2 + Q4_Diff_3 + Q4_Diff_4 + Q4_Diff_5) \n",
    "print(\"Approximately\", Q4_YPLL, \"years were lost\")"
   ]
  }
 ],
 "metadata": {
  "kernelspec": {
   "display_name": "Python 3",
   "language": "python",
   "name": "python3"
  },
  "language_info": {
   "codemirror_mode": {
    "name": "ipython",
    "version": 3
   },
   "file_extension": ".py",
   "mimetype": "text/x-python",
   "name": "python",
   "nbconvert_exporter": "python",
   "pygments_lexer": "ipython3",
   "version": "3.12.6"
  }
 },
 "nbformat": 4,
 "nbformat_minor": 2
}
