{
 "cells": [
  {
   "cell_type": "code",
   "execution_count": 1,
   "metadata": {},
   "outputs": [],
   "source": [
    "# Code Two: Using if statments to determine if a patient has a high temperature or not"
   ]
  },
  {
   "cell_type": "code",
   "execution_count": 5,
   "metadata": {},
   "outputs": [
    {
     "name": "stdout",
     "output_type": "stream",
     "text": [
      "The patient temperature of 105.8 is high and possibly a high-grade fever.\n"
     ]
    }
   ],
   "source": [
    "# Patients temp input\n",
    "Patients_temp = (input(\"Enter patient's temperature (In degrees Fahrenheit): \"))\n",
    "\n",
    "# in order to account for both str and float inputs, \"try\" & \"except\" were used to accomadate both.\n",
    "# by using try, user inputs will than be passed through each if and elif lines to than determine where the float value falls.\n",
    "try:\n",
    "    Patients_temp =float(Patients_temp)\n",
    "\n",
    "    if (97.8 <= Patients_temp <= 99):\n",
    "        print(\"The patient's temperature of\", Patients_temp, \"is normal.\")\n",
    "    elif (99.1 <= Patients_temp <=100.4):\n",
    "        print(\"The patient temperature of\", Patients_temp,\"is high and possibly a low-grade fever.\")\n",
    "    elif (100.6 <= Patients_temp <= 102.2):\n",
    "        print(\"The patient temperature of\", Patients_temp,\"is high and possibly a moderate-grade fever.\")\n",
    "    elif ( 102.4 <= Patients_temp <= 105.8):\n",
    "        print(\"The patient temperature of\", Patients_temp,\"is high and possibly a high-grade fever.\")\n",
    "\n",
    "# by using except, inputs that are str will than prompt a message rather than a code error. \n",
    "except ValueError:\n",
    "    print(\"Please enter a valid temperature (numeric value).\")\n",
    "    \n",
    "\n",
    "# stackoverflow was used to help troubleshoot float & str inputs and how to work around errors\n",
    "# Temp ranges were set using the following article: Lewine, H. E. (Ed.). (2023, May 22). Fever in adults: When to worry. Harvard Health: treating-fever-in-adults. https://www.health.harvard.edu/diseases-and-conditions/treating-fever-in-adults \n",
    "\n",
    "\n"
   ]
  }
 ],
 "metadata": {
  "kernelspec": {
   "display_name": "Python 3",
   "language": "python",
   "name": "python3"
  },
  "language_info": {
   "codemirror_mode": {
    "name": "ipython",
    "version": 3
   },
   "file_extension": ".py",
   "mimetype": "text/x-python",
   "name": "python",
   "nbconvert_exporter": "python",
   "pygments_lexer": "ipython3",
   "version": "3.12.6"
  }
 },
 "nbformat": 4,
 "nbformat_minor": 2
}
