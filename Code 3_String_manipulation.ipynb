{
 "cells": [
  {
   "cell_type": "code",
   "execution_count": null,
   "metadata": {},
   "outputs": [],
   "source": [
    "### Code 3 assignment: string manipulation \n",
    "##Hints: You can use the input() function to get user input for each problem. For problem 6, you can use the upper() method to convert the string to uppercase and the replace() method to replace spaces with underscores."
   ]
  },
  {
   "cell_type": "code",
   "execution_count": 10,
   "metadata": {},
   "outputs": [
    {
     "name": "stdout",
     "output_type": "stream",
     "text": [
      "Hi Isaias, it is nice to meet you!\n"
     ]
    }
   ],
   "source": [
    "# problem 1: String Manipulation, prompt the user to enter their name. Create a greeting message using the user's name and display it.\n",
    "# Example Output: (Enter your name: John) & (Hello, John! Nice to meet you.)\n",
    "\n",
    "Name = input(\"Please input name: \" )\n",
    "titlename = Name.title()\n",
    "\n",
    "print(\"Hi \" + titlename + \", it is nice to meet you!\")\n"
   ]
  },
  {
   "cell_type": "code",
   "execution_count": 12,
   "metadata": {},
   "outputs": [
    {
     "name": "stdout",
     "output_type": "stream",
     "text": [
      "Original iput: Psychology\n",
      "reversed input: ygolohcysP\n"
     ]
    }
   ],
   "source": [
    "# Problem 2 - Reversed String: Prompt the user to enter a word. Reverse the word and display the reversed string.\n",
    "# Example Output: (Enter a word: Python) & (Reversed: nohtyP)\n",
    "\n",
    "user_input = input(\"Input a word to view it reversed: \")\n",
    "\n",
    "print('Original iput: ' + user_input)\n",
    "print('reversed input: ' + user_input[::-1])\n",
    "\n",
    "\n"
   ]
  },
  {
   "cell_type": "code",
   "execution_count": 13,
   "metadata": {},
   "outputs": [
    {
     "name": "stdout",
     "output_type": "stream",
     "text": [
      "Original input: The quick brown fox jumped over the lazy dog\n",
      "The input has 45 characters.\n"
     ]
    }
   ],
   "source": [
    "# Problem 3 - String Length: Prompt the user to enter a sentence. Calculate and display the number of characters in the sentence (including spaces).\n",
    "# Example Output: (Enter a sentence: This is a sample sentence.) & (The sentence has 26 characters.)     \n",
    "\n",
    "user_input = input(\"Input a phrase/sentence to view it's string length: \")\n",
    "character_count = 0 \n",
    "\n",
    "character_count = character_count + user_input.count('')\n",
    "\n",
    "print(\"Original input: \" + user_input)\n",
    "print('The input has ' + str(character_count) + ' characters.')"
   ]
  },
  {
   "cell_type": "code",
   "execution_count": 14,
   "metadata": {},
   "outputs": [
    {
     "name": "stdout",
     "output_type": "stream",
     "text": [
      "Vowel count, a:0, e:1, i:0, o:2, u:0\n",
      "Total vowel count: 3\n"
     ]
    }
   ],
   "source": [
    "# Problem 4 - Vowel Count: Prompt the user to enter a word or sentence. Count and display the number of vowels (a, e, i, o, u) in the input.\n",
    "# Example Output: (Enter a word or sentence: Hello, World!) & (Number of vowels: 3)\n",
    "\n",
    "user_input = input(\"Input a phrase/sentence to view it's count of vowels: \")\n",
    "\n",
    "a = 0\n",
    "a = a + user_input.count('a')\n",
    "\n",
    "e = 0\n",
    "e = e + user_input.count('e')\n",
    "\n",
    "i = 0\n",
    "i = i + user_input.count('i')\n",
    "\n",
    "o = 0\n",
    "o = o + user_input.count('o')\n",
    "\n",
    "u = 0\n",
    "u = u + user_input.count('u')\n",
    "\n",
    "print(\"Vowel count, a:\" + str(a) + ', e:' + str(e) + ', i:' + str(i) + ', o:' + str(o) + ', u:' + str(u))\n",
    "print('Total vowel count: ' + str(a + e + i + o + u))\n"
   ]
  },
  {
   "cell_type": "code",
   "execution_count": 17,
   "metadata": {},
   "outputs": [
    {
     "name": "stdout",
     "output_type": "stream",
     "text": [
      "The word level is a palindrom.\n"
     ]
    }
   ],
   "source": [
    "# Problem 5 - Palindrome Check: Prompt the user to enter a word. Check if the word is a palindrome (reads the same backward as forwards) and display the result.\n",
    "# Example Output: (Enter a word: racecar), (The word is a palindrome.), (Enter a word: python), (The word is not a palindrome.)\n",
    "\n",
    "\n",
    "user_input = input('input a word to determine if a palindrome') \n",
    "user_input_reversed = user_input[::-1]\n",
    "\n",
    "anwser = user_input in user_input_reversed\n",
    "    \n",
    "if anwser == True:\n",
    "    print(\"The word\", user_input, \"is a palindrom.\")\n",
    "elif anwser  == False:\n",
    "     print(\"The word\", user_input,\"is not a palindrome.\")"
   ]
  },
  {
   "cell_type": "code",
   "execution_count": 18,
   "metadata": {},
   "outputs": [
    {
     "name": "stdout",
     "output_type": "stream",
     "text": [
      "THIS_IS_A_SECRET\n"
     ]
    }
   ],
   "source": [
    "# Problem 6 - Secret Message: Prompt the user to enter a secret message (a sentence). Encrypt the message by converting all characters to uppercase and replacing spaces with underscores ('_').\n",
    "# Display the encrypted secret message.\n",
    "\n",
    "#Example Output: (Enter your secret message: This is a secret.) & (Encrypted secret message: THIS_IS_A_SECRET.)\n",
    "\n",
    "user_input = input('Enter your secret message: ')\n",
    "user_input = user_input.replace(' ', '_')\n",
    "user_input = user_input.upper()\n",
    "\n",
    "print(user_input)\n",
    "\n",
    "\n"
   ]
  }
 ],
 "metadata": {
  "kernelspec": {
   "display_name": "Python 3",
   "language": "python",
   "name": "python3"
  },
  "language_info": {
   "codemirror_mode": {
    "name": "ipython",
    "version": 3
   },
   "file_extension": ".py",
   "mimetype": "text/x-python",
   "name": "python",
   "nbconvert_exporter": "python",
   "pygments_lexer": "ipython3",
   "version": "3.12.6"
  }
 },
 "nbformat": 4,
 "nbformat_minor": 2
}
