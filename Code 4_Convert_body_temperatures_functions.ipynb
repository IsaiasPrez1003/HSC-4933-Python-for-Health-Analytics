{
 "cells": [
  {
   "cell_type": "code",
   "execution_count": 4,
   "metadata": {},
   "outputs": [],
   "source": [
    "# Code 4: Convert body temperatures\n",
    "## Task description: create Python functions to convert body temperatures between Celsius and Fahrenheit.\n",
    "## You will also use if statements to allow the user to choose the conversion direction."
   ]
  },
  {
   "cell_type": "code",
   "execution_count": null,
   "metadata": {},
   "outputs": [],
   "source": [
    "# function to convert F to C\n",
    "def F_conversion(x):\n",
    "    conversion = (x - 32) * (5/9)\n",
    "    return round(conversion, 2)\n",
    "\n",
    "# function to convert C to F\n",
    "def C_conversion(x):\n",
    "    conversion = (x * (9/5)) + 32\n",
    "    return round(conversion, 2)\n",
    "\n",
    "# User input\n",
    "user_input = input('Enter C to convert Celsius to Fahrenheit, or enter F to convert Fahrenheit to Celsius: ')\n",
    "user_input = user_input.lower() # \n",
    "\n",
    "# The code below is dependent on users input of either 'C' or 'F', from this, the code will either convert C to F or F to C.\n",
    "# In addition, if the user iput is not an acceptable string, the code will inform users. \n",
    "if (user_input == 'c'):\n",
    "    try:\n",
    "        user_input_c = float(input('Enter temperature in Celsius: '))\n",
    "        Temp_converted_C_to_F = C_conversion(user_input_c)\n",
    "        print(user_input_c, 'degrees Celsius is equal to', Temp_converted_C_to_F, 'degrees Fahrenheit.')\n",
    "    except ValueError:\n",
    "        print('Incorrect input. Please enter a numeric value for Celsius.')\n",
    "        \n",
    "elif (user_input == 'f'):\n",
    "    try:\n",
    "        user_input_f = float(input('Enter temperature in Fahrenheit: '))\n",
    "        Temp_converted_F_to_C = F_conversion(user_input_f)\n",
    "        print(user_input_f, 'degrees Fahrenheit is equal to', Temp_converted_F_to_C, 'degrees Celsius.')\n",
    "    except ValueError:\n",
    "        print('Incorrect input. Please enter a numeric value for Fahrenheit.')\n",
    "\n",
    "else:\n",
    "    print('Incorrect input. Please enter C to convert Celsius to Fahrenheit, or enter F to convert Fahrenheit to Celsius.')\n",
    "\n",
    "\n"
   ]
  }
 ],
 "metadata": {
  "kernelspec": {
   "display_name": "Python 3",
   "language": "python",
   "name": "python3"
  },
  "language_info": {
   "codemirror_mode": {
    "name": "ipython",
    "version": 3
   },
   "file_extension": ".py",
   "mimetype": "text/x-python",
   "name": "python",
   "nbconvert_exporter": "python",
   "pygments_lexer": "ipython3",
   "version": "3.12.6"
  }
 },
 "nbformat": 4,
 "nbformat_minor": 2
}
