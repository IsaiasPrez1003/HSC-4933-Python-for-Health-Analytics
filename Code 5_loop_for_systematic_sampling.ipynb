{
 "cells": [
  {
   "cell_type": "code",
   "execution_count": 1,
   "metadata": {},
   "outputs": [],
   "source": [
    "# Task Description: implement systematic sampling using loops in Python. \n",
    "# Calculate the sample size needed for systematic sampling."
   ]
  },
  {
   "cell_type": "code",
   "execution_count": 142,
   "metadata": {},
   "outputs": [],
   "source": [
    "#Function to calculate sample size\n",
    "def calculate_sample_size(population_size, confidence_level, margin_of_error):\n",
    "    sample_size_preCorrection = ((confidence_level) ** 2 * 0.5 * (1 - 0.5) / margin_of_error ** 2)  # first step, produces the pre-corrected sample size.\n",
    "    sample_size_corrected = sample_size_preCorrection / (1 + (sample_size_preCorrection/population_size)) # second step, produces the corrected sample size. \n",
    "    return round(sample_size_corrected,0)\n",
    "\n"
   ]
  },
  {
   "cell_type": "code",
   "execution_count": 143,
   "metadata": {},
   "outputs": [
    {
     "name": "stdout",
     "output_type": "stream",
     "text": [
      "The required sample size for systematic sampling is approximately: 278\n"
     ]
    }
   ],
   "source": [
    "# User input for Pop. size, C.L, and MoE.\n",
    "try:\n",
    "    population_size = float(input(\"Enter the population size: \" ))\n",
    "    confidence_level = float(input(\"Enter the confidence level as decimal (e.g., 90% = 1.645, 95% = 1.96. 99% = 2.58): \")) #correspnds to z-score\n",
    "    margin_of_error = float(input(\"Enter the desired margin of error (e.g., 0.05 for 5%): \"))\n",
    "\n",
    "# calculates and prints the sample size\n",
    "    sample_size_corrected = int(calculate_sample_size(population_size, confidence_level, margin_of_error))\n",
    "    print(f\"The required sample size for systematic sampling is approximately:\", sample_size_corrected)\n",
    "\n",
    "\n",
    "except ValueError:\n",
    "    print(\"Please enter a valid numeric value.\")"
   ]
  },
  {
   "cell_type": "code",
   "execution_count": 147,
   "metadata": {},
   "outputs": [
    {
     "name": "stdout",
     "output_type": "stream",
     "text": [
      "Every 4 placments is the recommended sampling interval for a population of 1000 and calculated systematic sampling size of 278\n",
      "The systematic sampling selected the following elements: \n",
      "0 4 8 12 16 20 24 28 32 36 40 44 48 52 56 60 64 68 72 76 80 84 88 92 96 100 104 108 112 116 120 124 128 132 136 140 144 148 152 156 160 164 168 172 176 180 184 188 192 196 200 204 208 212 216 220 224 228 232 236 240 244 248 252 256 260 264 268 272 276 280 284 288 292 296 300 304 308 312 316 320 324 328 332 336 340 344 348 352 356 360 364 368 372 376 380 384 388 392 396 400 404 408 412 416 420 424 428 432 436 440 444 448 452 456 460 464 468 472 476 480 484 488 492 496 500 504 508 512 516 520 524 528 532 536 540 544 548 552 556 560 564 568 572 576 580 584 588 592 596 600 604 608 612 616 620 624 628 632 636 640 644 648 652 656 660 664 668 672 676 680 684 688 692 696 700 704 708 712 716 720 724 728 732 736 740 744 748 752 756 760 764 768 772 776 780 784 788 792 796 800 804 808 812 816 820 824 828 832 836 840 844 848 852 856 860 864 868 872 876 880 884 888 892 896 900 904 908 912 916 920 924 928 932 936 940 944 948 952 956 960 964 968 972 976 980 984 988 992 996 "
     ]
    }
   ],
   "source": [
    "# Systematic Sampling\n",
    "try:\n",
    "    population_size = int(input(\"Enter the population size: \" ))\n",
    "    sample_sizeFor_sysTsamp = float(input(\"Enter the sample size you want to draw (Should not be greater than the population size): \" ))\n",
    "\n",
    "\n",
    "    if (population_size < sample_sizeFor_sysTsamp):\n",
    "        print('Sorry, the requested sample size is not feasible with the given population size, confidence level, and margin of error.')\n",
    "        print('The maximum sample size possible is', sample_size_corrected,'please enter a lower value.')\n",
    "\n",
    "    if (population_size >= sample_sizeFor_sysTsamp):\n",
    "        kth = int(round(population_size/sample_sizeFor_sysTsamp, 0))\n",
    "        print('Every', kth, 'placments is the recommended sampling interval for a population of',population_size, 'and calculated systematic sampling size of', sample_size_corrected,)\n",
    "\n",
    "        #Below prints the kth postition to be sampled within the total population\n",
    "        if isinstance(kth, int):\n",
    "            print(\"The systematic sampling selected the following elements: \")\n",
    "            for i in range(0, population_size, kth):\n",
    "                print(i, end=\" \")\n",
    "                \n",
    "                \n",
    "\n",
    "\n",
    "except ValueError:\n",
    "    print(\"Please enter a valid numeric value.\")"
   ]
  }
 ],
 "metadata": {
  "kernelspec": {
   "display_name": "Python 3",
   "language": "python",
   "name": "python3"
  },
  "language_info": {
   "codemirror_mode": {
    "name": "ipython",
    "version": 3
   },
   "file_extension": ".py",
   "mimetype": "text/x-python",
   "name": "python",
   "nbconvert_exporter": "python",
   "pygments_lexer": "ipython3",
   "version": "3.13.0"
  }
 },
 "nbformat": 4,
 "nbformat_minor": 2
}
