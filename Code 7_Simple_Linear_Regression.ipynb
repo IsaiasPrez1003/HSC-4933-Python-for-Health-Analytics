{
 "cells": [
  {
   "cell_type": "code",
   "execution_count": 1,
   "metadata": {},
   "outputs": [],
   "source": [
    "# Code 7: Simple Linear regression\n",
    "# Implement a simple linear regression algorithm using control flow concepts in Python. \n",
    "# Calculate the regression coefficients (slope and intercept) for a given data set and use them to make predictions."
   ]
  },
  {
   "cell_type": "code",
   "execution_count": 61,
   "metadata": {},
   "outputs": [],
   "source": [
    "# Given data set. Can be changed to fit needs.\n",
    "data_points = [(2000, 72.5), (2001, 73.1), (2002, 73.8), (2003, 74.2), (2004, 74.7), (2005, 75.3), \n",
    "               (2006, 75.9), (2007, 76.5), (2008, 76.9), (2009, 77.4), (2010, 78.0), (2011, 78.5), \n",
    "               (2012, 79.0), (2013, 79.5), (2014, 80.0), (2015, 80.5), (2016, 81.0), (2017, 81.5), \n",
    "               (2018, 82.0), (2019, 82.5)]\n",
    "\n"
   ]
  },
  {
   "cell_type": "code",
   "execution_count": null,
   "metadata": {},
   "outputs": [],
   "source": [
    "# Function 1 to calculate mean.\n",
    "def Calculate_mean_V2(list):\n",
    "    Fun_1_x = []\n",
    "    Fun_1_y = []\n",
    "    for var in data_points:\n",
    "        Fun_1_x.append(var[0])\n",
    "        Fun_1_y.append(var[1])\n",
    "    x_mean_V2 = sum(Fun_1_x) / len(Fun_1_x)\n",
    "    y_mean_V2 = sum(Fun_1_y) / len(Fun_1_y)\n",
    "\n",
    "    return x_mean_V2, y_mean_V2\n",
    "\n",
    "# Saves the X and Y means as in object\n",
    "dp_XY_means = Calculate_mean_V2(data_points)\n",
    "x_mean = dp_XY_means[0]\n",
    "y_mean = dp_XY_means[1]\n"
   ]
  },
  {
   "cell_type": "code",
   "execution_count": null,
   "metadata": {},
   "outputs": [],
   "source": [
    "# Function 2 to calculate regression coefficients\n",
    "def Calculate_regression_coefficients(list):\n",
    "    list_x = []\n",
    "    list_y = []\n",
    "    for var in data_points:\n",
    "        list_x.append(var[0])\n",
    "        list_y.append(var[1])\n",
    "# allows python to subtract all present variables for X and Y by each mean value\n",
    "    x_diff = [(x - x_mean) for x in list_x]\n",
    "    y_diff = [(y - y_mean) for y in list_y]\n",
    "\n",
    "# Slope (m) = (Σ((x - x_mean) * (y - y_mean))) / (Σ((x - x_mean)^2))\n",
    "\n",
    "### The Numerator: (Σ((x - x_mean) * (y - y_mean))) is equal to the Covariance\n",
    "### The Denominator: (Σ((x - x_mean)^2)) is equal to variability   \n",
    "\n",
    "# Below calculates the Covariance for the slope equation\n",
    "    CoVariance = 0\n",
    "    for i in range(len(list_x)):\n",
    "        CoVariance += x_diff[i] * y_diff[i]\n",
    "# Below calculates the variability    \n",
    "    Variance = sum((x - x_mean) ** 2 for x in list_x)\n",
    "\n",
    "# Slope \n",
    "    slope_m = CoVariance / Variance\n",
    "# Intercept     \n",
    "    intercept_b = y_mean - (slope_m * x_mean)\n",
    "# returns a rounded variable\n",
    "    return round(slope_m, 3), round(intercept_b, 3)\n"
   ]
  },
  {
   "cell_type": "code",
   "execution_count": 82,
   "metadata": {},
   "outputs": [],
   "source": [
    "# function 3 takes a new x vlaue and calculated coefficients as inputs and predicts a new y value.\n",
    "def y_prediction(new_x, slope, intercept):\n",
    "    predicted_y = (new_x * slope) + intercept\n",
    "\n",
    "    return predicted_y\n"
   ]
  },
  {
   "cell_type": "code",
   "execution_count": 83,
   "metadata": {},
   "outputs": [
    {
     "name": "stdout",
     "output_type": "stream",
     "text": [
      "Slope (m): 0.522\n",
      "Intercept (b): -971.531\n"
     ]
    }
   ],
   "source": [
    "print(f'Slope (m): {slope_and_intercept[0]}')\n",
    "print(f'Intercept (b): {slope_and_intercept[1]}')"
   ]
  },
  {
   "cell_type": "code",
   "execution_count": 84,
   "metadata": {},
   "outputs": [
    {
     "name": "stdout",
     "output_type": "stream",
     "text": [
      "for user input of 2020.0 ,the predicted y value is 83.0\n"
     ]
    }
   ],
   "source": [
    "# Main program\n",
    "### use the slope and intercept above.\n",
    "User_data = float(input(\"Enter your new x value: \"))\n",
    "User_slope = float(input(\"Enter your slope value (use slope printed above): \"))\n",
    "User_intercept = float(input(\"Enter your intercept (use intercept printed above): \"))\n",
    "\n",
    "y_value = round(y_prediction(User_data, User_slope, User_intercept), 0)\n",
    "\n",
    "print(f'for user input of', User_data,',' 'the predicted y value is', y_value,)"
   ]
  }
 ],
 "metadata": {
  "kernelspec": {
   "display_name": "Python 3",
   "language": "python",
   "name": "python3"
  },
  "language_info": {
   "codemirror_mode": {
    "name": "ipython",
    "version": 3
   },
   "file_extension": ".py",
   "mimetype": "text/x-python",
   "name": "python",
   "nbconvert_exporter": "python",
   "pygments_lexer": "ipython3",
   "version": "3.12.6"
  }
 },
 "nbformat": 4,
 "nbformat_minor": 2
}
