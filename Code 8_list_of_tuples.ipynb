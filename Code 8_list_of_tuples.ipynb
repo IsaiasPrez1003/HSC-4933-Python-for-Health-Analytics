{
 "cells": [
  {
   "cell_type": "code",
   "execution_count": null,
   "metadata": {},
   "outputs": [],
   "source": [
    "# Code 8: Convert a list of tuples into a dictionary.\n",
    "\n",
    "# Write a Python program to convert a given list of tuples into a dictionary. \n",
    "# The tuples represent key-value pairs, create a dictionary where the first element of each tuple becomes the key, \n",
    "# and the second element becomes the corresponding value."
   ]
  },
  {
   "cell_type": "code",
   "execution_count": null,
   "metadata": {},
   "outputs": [
    {
     "data": {
      "text/plain": [
       "{5}"
      ]
     },
     "execution_count": 133,
     "metadata": {},
     "output_type": "execute_result"
    }
   ],
   "source": [
    "# Data set used for assignment. Convert this list of tuples into a dictionary using a loop and dictionary manipulation.\n",
    "data_list = [('apple', 5), ('banana', 2), ('orange', 8), ('grapes', 3), ('pineapple', 1)]\n",
    "\n",
    "# coverting list of tuples to a dictionary.\n",
    "list_dict = {}\n",
    "\n",
    "for item in data_list:\n",
    "        fruit, value = item\n",
    "        list_dict[fruit] = {value}\n",
    "\n",
    "      \n",
    "list_dict['apple']"
   ]
  },
  {
   "cell_type": "code",
   "execution_count": null,
   "metadata": {},
   "outputs": [],
   "source": [
    "# Function:covert_to_dictionary. \n",
    "# Takes the given list of tuples as input and returns the resulting dictionary.\n",
    "\n",
    "def convert_to_dictionary(input):\n",
    "    new_dict = {}\n",
    "    for x in data_list:\n",
    "        key, y = x\n",
    "        new_dict[key] = {y}  \n",
    "\n",
    "    return new_dict\n"
   ]
  },
  {
   "cell_type": "code",
   "execution_count": null,
   "metadata": {},
   "outputs": [
    {
     "name": "stdout",
     "output_type": "stream",
     "text": [
      "{'apple': {5}, 'banana': {2}, 'orange': {8}, 'grapes': {3}, 'pineapple': {1}}\n"
     ]
    },
    {
     "data": {
      "text/plain": [
       "{8}"
      ]
     },
     "execution_count": 139,
     "metadata": {},
     "output_type": "execute_result"
    }
   ],
   "source": [
    "# Main program. Call the convert_to_dictionary function with the data_list and store the returned dictionary in a variable. \n",
    "Processed_dictionary = convert_to_dictionary(data_list)\n",
    "\n",
    "# Display the original list of tuples and the converted dictionary to the user.\n",
    "print(Processed_dictionary)"
   ]
  }
 ],
 "metadata": {
  "kernelspec": {
   "display_name": "Python 3",
   "language": "python",
   "name": "python3"
  },
  "language_info": {
   "codemirror_mode": {
    "name": "ipython",
    "version": 3
   },
   "file_extension": ".py",
   "mimetype": "text/x-python",
   "name": "python",
   "nbconvert_exporter": "python",
   "pygments_lexer": "ipython3",
   "version": "3.12.6"
  }
 },
 "nbformat": 4,
 "nbformat_minor": 2
}
