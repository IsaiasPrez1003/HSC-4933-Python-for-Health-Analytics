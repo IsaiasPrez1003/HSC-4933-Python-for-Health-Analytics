{
 "cells": [
  {
   "cell_type": "code",
   "execution_count": null,
   "metadata": {},
   "outputs": [],
   "source": [
    "# Code 9: Patient health data analytics with Object Oriented Programming\n",
    "# Create a Python program to analyze patient health data from two hospitals. \n",
    "# You will use object-oriented programming (OOP) to represent patient records and perform various analyses."
   ]
  },
  {
   "cell_type": "code",
   "execution_count": null,
   "metadata": {},
   "outputs": [],
   "source": [
    "### Section One\n",
    "## Define a class Patient to represent a patient's health data. Each patient should have the following attributes:\n",
    "# Name: The name of the patient (string).\n",
    "# Age: The age of the patient (integer).\n",
    "# Gender: The gender of the patient (string, either 'Male' or 'Female').\n",
    "# Blood_pressure: The patient's blood pressure (a tuple of two integers representing systolic and diastolic pressures, e.g., (120, 80)).\n",
    "# Temperature: The patient's body temperature in Celsius (a floating-point number).\n",
    "# Write a method display_patient_info() inside the Patient class that displays the patient's information in a formatted way.\n",
    "\n",
    "### Section Two \n",
    "## Create two instances of the Patient class, representing patients from two different hospitals. Set different values for the attributes for each patient.\n",
    "# Implement a method is_hypertensive() inside the Patient class that checks if the patient has hypertension based on their blood pressure. \n",
    "# If the systolic pressure is greater than or equal to 140 or the diastolic pressure is greater than or equal to 90, the patient is considered hypertensive.\n",
    "\n",
    "### Section Three\n",
    "## Implement a method is_feverish() inside the Patient class that checks if the patient has a fever. \n",
    "# A patient is considered feverish if their body temperature is greater than or equal to 37.5 degrees Celsius.\n",
    "## In the main program, use the instances of the Patient class created in step 3 to display patient information, check for hypertension, and check for fever."
   ]
  },
  {
   "cell_type": "code",
   "execution_count": 2,
   "metadata": {},
   "outputs": [
    {
     "name": "stdout",
     "output_type": "stream",
     "text": [
      "<__main__.Patient object at 0x00000232DA93E270>\n",
      "Patient(Name = John Doe, Age = 45, Gender = Male, Blood pressure = (140, 85), Temperature in Celsius = 36.8)\n"
     ]
    }
   ],
   "source": [
    "\n",
    "\n",
    "\n",
    "### Section One: Write a method display_patient_info() inside the Patient class that displays the patient's information in a formatted way. \n",
    "class Patient:\n",
    "    def __init__(self, Name, Age, Gender, Blood_pressure, Temperature):\n",
    "        self.Name = Name\n",
    "        self.Age = Age \n",
    "        self.Gender = Gender\n",
    "        self.Blood_pressure = Blood_pressure\n",
    "        self.Temperature = Temperature  \n",
    "        \n",
    "    def display_info(self):\n",
    "        return (\n",
    "            f\"Patient(Name = {self.Name}, Age = {self.Age}, Gender = {self.Gender},\"\n",
    "            f\" Blood pressure = {self.Blood_pressure}, Temperature in Celsius = {self.Temperature})\" \n",
    "        )\n",
    "\n",
    "\n",
    "Patient_1 = Patient(\"John Doe\", 45, \"Male\", (140, 85), 36.8)  \n",
    "patient_2 = Patient(\"Jane Smith\", 32, \"Female\", (130, 88), 37.6)      \n",
    "\n",
    "print (Patient_1)\n",
    "print(Patient_1.display_info())\n"
   ]
  },
  {
   "cell_type": "code",
   "execution_count": 3,
   "metadata": {},
   "outputs": [
    {
     "name": "stdout",
     "output_type": "stream",
     "text": [
      "Patient(Name = John Doe, Age = 45, Gender = Male, Blood pressure = (140, 85), Temperature in Celsius = 36.8)\n",
      "Patient is located at hospital One\n",
      "\n",
      "Patient(Name = Henry Williams, Age = 41, Gender = Male, Blood pressure = (120, 80), Temperature in Celsius = 36.8)\n",
      "Patient is located at hospital Two\n"
     ]
    }
   ],
   "source": [
    "### Section Two: Create two instances of the Patient class, representing patients from two different hospitals. \n",
    "class Patient:\n",
    "    def __init__(self, Name, Age, Gender, Blood_pressure, Temperature):\n",
    "        self.Name = Name\n",
    "        self.Age = Age \n",
    "        self.Gender = Gender\n",
    "        self.Blood_pressure = Blood_pressure\n",
    "        self.Temperature = Temperature\n",
    "    \n",
    "        \n",
    "    def display_info(self):\n",
    "        return (\n",
    "            f\"Patient(Name = {self.Name}, Age = {self.Age}, Gender = {self.Gender},\"\n",
    "            f\" Blood pressure = {self.Blood_pressure}, Temperature in Celsius = {self.Temperature})\"\n",
    "        )\n",
    "    def location(self):\n",
    "        return \"Undefined location\"\n",
    "    \n",
    "\n",
    "class Hospital_1(Patient):\n",
    "    def location(self):\n",
    "        return \"Patient is located at hospital One\"\n",
    "\n",
    "class Hospital_2(Patient):\n",
    "    def location(self):\n",
    "        return \"Patient is located at hospital Two\"    \n",
    "\n",
    "Patient_1 = Hospital_1(\"John Doe\", 45, \"Male\", (140, 85), 36.8)  \n",
    "patient_2 = Hospital_1(\"Jane Smith\", 32, \"Female\", (130, 88), 37.6)      \n",
    "\n",
    "Patient_3 = Hospital_2(\"Henry Williams\", 41, \"Male\", (120, 80), 36.8)\n",
    "Patient_4 = Hospital_2(\"Alex Wilshire\", 45, \"Male\", (144, 90), 36.8)\n",
    "\n",
    "\n",
    "print(Patient_1.display_info())\n",
    "print(Patient_1.location())\n",
    "print()\n",
    "print(Patient_3.display_info())\n",
    "print(Patient_3.location())\n"
   ]
  },
  {
   "cell_type": "code",
   "execution_count": 4,
   "metadata": {},
   "outputs": [],
   "source": [
    "### Section Three: Implement a method is_hypertensive() inside the Patient class that checks if the patient has hypertension based on their blood pressure.\n",
    "# Implement a method is_feverish() inside the Patient class that checks if the patient has a fever.\n",
    "\n",
    "\n",
    "class Patient:\n",
    "    def __init__(self, Name, Age, Gender, Blood_pressure, Temperature):\n",
    "        self.Name = Name\n",
    "        self.Age = Age \n",
    "        self.Gender = Gender\n",
    "        self.Blood_pressure = Blood_pressure\n",
    "        self.Temperature = Temperature\n",
    "        \n",
    "\n",
    "    def display_info(self):\n",
    "        return (\n",
    "            f\"Patient(Name = {self.Name}, Age = {self.Age}, Gender = {self.Gender},\"\n",
    "            f\" Blood pressure = {self.Blood_pressure}, Temperature in Celsius = {self.Temperature})\" \n",
    "        )\n",
    "    \n",
    "    def location(self):\n",
    "        return \"Undefined location\"\n",
    "    \n",
    "    def is_hypertensive(self):\n",
    "        if self.Blood_pressure[0] >= 140:\n",
    "            return \"Is hypertensive\"\n",
    "        if self.Blood_pressure[0] < 140:\n",
    "            return \"In not hypertensive\"\n",
    "        \n",
    "    def is_feverish(self):\n",
    "        if self.Temperature >= 37.5:\n",
    "            return \"Has fever\" \n",
    "        if self.Temperature < 37.5:\n",
    "            return \"Does not have a fever\"  \n",
    "        \n",
    "    \n",
    "\n",
    "class Hospital_1(Patient):\n",
    "    def location(self):\n",
    "        return \"Patient is located at hospital One\"\n",
    "\n",
    "class Hospital_2(Patient):\n",
    "    def location(self):\n",
    "        return \"Patient is located at hospital Two\"    \n"
   ]
  },
  {
   "cell_type": "code",
   "execution_count": 136,
   "metadata": {},
   "outputs": [
    {
     "name": "stdout",
     "output_type": "stream",
     "text": [
      "Patient(Name = John Doe, Age = 45, Gender = Male, Blood pressure = (140, 85), Temperature in Celsius = 36.8)\n",
      "Patient is located at hospital One\n",
      "Is hypertensive\n",
      "Does not have a fever\n",
      "\n",
      "Patient(Name = Jane Smith, Age = 32, Gender = Female, Blood pressure = (130, 88), Temperature in Celsius = 37.6)\n",
      "Patient is located at hospital One\n",
      "In not hypertensive\n",
      "Has fever\n",
      "\n",
      "Patient(Name = Henry Williams, Age = 41, Gender = Male, Blood pressure = (120, 80), Temperature in Celsius = 36.8)\n",
      "Patient is located at hospital Two\n",
      "In not hypertensive\n",
      "Does not have a fever\n",
      "\n",
      "Patient(Name = Alex Wilshire, Age = 45, Gender = Male, Blood pressure = (144, 90), Temperature in Celsius = 36.8)\n",
      "Patient is located at hospital Two\n",
      "Is hypertensive\n",
      "Does not have a fever\n"
     ]
    }
   ],
   "source": [
    "### Main Program: Use the instances of the Patient class created in step 3 to display patient information, check for hypertension, and check for fever.\n",
    "Patient_1 = Hospital_1(\"John Doe\", 45, \"Male\", (140, 85), 36.8)  \n",
    "Patient_2 = Hospital_1(\"Jane Smith\", 32, \"Female\", (130, 88), 37.6)      \n",
    "\n",
    "Patient_3 = Hospital_2(\"Henry Williams\", 41, \"Male\", (120, 80), 36.8)\n",
    "Patient_4 = Hospital_2(\"Alex Wilshire\", 45, \"Male\", (144, 90), 36.8)\n",
    "\n",
    "print(Patient_1.display_info())\n",
    "print(Patient_1.location())\n",
    "print(Patient_1.is_hypertensive())\n",
    "print(Patient_1.is_feverish())\n",
    "\n",
    "print() # Gives space inbetween output for patients.\n",
    "\n",
    "print(Patient_2.display_info())\n",
    "print(Patient_2.location())\n",
    "print(Patient_2.is_hypertensive())\n",
    "print(Patient_2.is_feverish())\n",
    "\n",
    "print()\n",
    "\n",
    "print(Patient_3.display_info())\n",
    "print(Patient_3.location())\n",
    "print(Patient_3.is_hypertensive())\n",
    "print(Patient_3.is_feverish())\n",
    "\n",
    "print()\n",
    "\n",
    "print(Patient_4.display_info())\n",
    "print(Patient_4.location())\n",
    "print(Patient_4.is_hypertensive())\n",
    "print(Patient_4.is_feverish())\n"
   ]
  }
 ],
 "metadata": {
  "kernelspec": {
   "display_name": "Python 3",
   "language": "python",
   "name": "python3"
  },
  "language_info": {
   "codemirror_mode": {
    "name": "ipython",
    "version": 3
   },
   "file_extension": ".py",
   "mimetype": "text/x-python",
   "name": "python",
   "nbconvert_exporter": "python",
   "pygments_lexer": "ipython3",
   "version": "3.12.6"
  }
 },
 "nbformat": 4,
 "nbformat_minor": 2
}
